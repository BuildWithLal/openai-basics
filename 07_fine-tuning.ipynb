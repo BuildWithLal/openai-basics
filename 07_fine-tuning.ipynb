{
 "cells": [
  {
   "cell_type": "code",
   "execution_count": 1,
   "id": "f64b38de-37d0-481d-96cd-b2704cbaaefd",
   "metadata": {},
   "outputs": [],
   "source": [
    "from dotenv import load_dotenv"
   ]
  },
  {
   "cell_type": "code",
   "execution_count": 2,
   "id": "78979619-f5f5-48a3-8c12-9cb33d9aaba4",
   "metadata": {},
   "outputs": [
    {
     "data": {
      "text/plain": [
       "True"
      ]
     },
     "execution_count": 2,
     "metadata": {},
     "output_type": "execute_result"
    }
   ],
   "source": [
    "load_dotenv()"
   ]
  },
  {
   "cell_type": "code",
   "execution_count": 3,
   "id": "c3b1ddce-1ea2-4b17-bc93-0e92d8acec99",
   "metadata": {},
   "outputs": [],
   "source": [
    "from openai import OpenAI"
   ]
  },
  {
   "cell_type": "code",
   "execution_count": 4,
   "id": "aaf0435a-7f43-4b3a-bcde-17ff12939907",
   "metadata": {},
   "outputs": [],
   "source": [
    "client = OpenAI()"
   ]
  },
  {
   "cell_type": "code",
   "execution_count": 5,
   "id": "ad91f45c-0418-41b9-b7a4-578963a5a15b",
   "metadata": {},
   "outputs": [
    {
     "name": "stdout",
     "output_type": "stream",
     "text": [
      "I don’t have specific information about the return policy of CodeCraft Marketplace as of my last update in October 2023. Return policies can vary widely between different marketplaces and can change frequently. I recommend checking the official CodeCraft Marketplace website directly or contacting their customer service for the most accurate and up-to-date information regarding their return policy.\n"
     ]
    }
   ],
   "source": [
    "response = client.chat.completions.create(\n",
    "  # model= \"ft:gpt-3.5-turbo-0125:personal::9pLUXPi8\",\n",
    "  model=\"gpt-4o-mini\",\n",
    "  messages=[ \n",
    "    {\"role\": \"user\", \"content\": \"What is the return policy of CodeCraft Marketfplace?\"}\n",
    "  ]\n",
    ")\n",
    "print(response.choices[0].message.content)"
   ]
  },
  {
   "cell_type": "code",
   "execution_count": 6,
   "id": "ace0fff3-8f08-4164-a5ef-085e89c11b78",
   "metadata": {},
   "outputs": [
    {
     "name": "stdout",
     "output_type": "stream",
     "text": [
      "I don't have access to real-time data or specific channels like BuildWithLal on YouTube. To find the video upload schedule for a particular channel, I recommend visiting their YouTube page directly. Many creators post their upload schedules in their video descriptions or community posts. Additionally, you can check their latest videos to see if they follow a consistent pattern in terms of upload frequency.\n"
     ]
    }
   ],
   "source": [
    "response = client.chat.completions.create(\n",
    "  model=\"gpt-4o-mini\",\n",
    "  messages=[ \n",
    "    {\"role\": \"user\", \"content\": \"What is the video upload schedule of BuildWithLal Youtube?\"}\n",
    "  ]\n",
    ")\n",
    "print(response.choices[0].message.content)"
   ]
  },
  {
   "cell_type": "markdown",
   "id": "0064306a-5e87-4d5e-b65e-f044f6341313",
   "metadata": {},
   "source": [
    "#"
   ]
  },
  {
   "cell_type": "markdown",
   "id": "685d2ede-e07f-40f7-b79d-69af59ff03e9",
   "metadata": {},
   "source": [
    "### 1. Preparing your dataset"
   ]
  },
  {
   "cell_type": "code",
   "execution_count": 7,
   "id": "44c60274-4b52-429c-be86-5d32cc4a6ff0",
   "metadata": {},
   "outputs": [
    {
     "data": {
      "text/plain": [
       "{'messages': [{'role': 'system',\n",
       "   'content': 'You are CodeCraft Marketplace agent to serve customer queries'},\n",
       "  {'role': 'user',\n",
       "   'content': 'What payment methods are accepted on CodeCraft Marketplace?'},\n",
       "  {'role': 'assistant',\n",
       "   'content': 'We accept credit/debit cards, PayPal, and other popular payment methods such as Apple Pay and Google Wallet.'}]}"
      ]
     },
     "execution_count": 7,
     "metadata": {},
     "output_type": "execute_result"
    }
   ],
   "source": [
    "{\"messages\": [{\"role\": \"system\", \"content\": \"You are CodeCraft Marketplace agent to serve customer queries\"}, {\"role\": \"user\", \"content\": \"What is the return policy for CodeCraft Marketplace?\"}, {\"role\": \"assistant\", \"content\": \"Items can be returned within 30 days of delivery for a full refund or exchange. Products must be unused and in their original packaging.\"}]}\n",
    "\n",
    "{\"messages\": [{\"role\": \"system\", \"content\": \"You are CodeCraft Marketplace agent to serve customer queries\"}, {\"role\": \"user\", \"content\": \"How do I track my order?\"}, {\"role\": \"assistant\", \"content\": \"You can track your order by logging into your account and viewing your order history, or by using the tracking number provided in your shipment confirmation email.\"}]}\n",
    "\n",
    "{\"messages\": [{\"role\": \"system\", \"content\": \"You are CodeCraft Marketplace agent to serve customer queries\"}, {\"role\": \"user\", \"content\": \"What payment methods are accepted on CodeCraft Marketplace?\"}, {\"role\": \"assistant\", \"content\": \"We accept credit/debit cards, PayPal, and other popular payment methods such as Apple Pay and Google Wallet.\"}]}\n"
   ]
  },
  {
   "cell_type": "markdown",
   "id": "615c1619-1f7a-4346-acb1-5ad64c2b9c77",
   "metadata": {},
   "source": [
    "##### To fine-tune a model, you are required to provide at least 10 examples. We typically see clear improvements from fine-tuning on 50 to 100 training examples with gpt-4o-mini and gpt-3.5-turbo, but the right number varies greatly based on the exact use case."
   ]
  },
  {
   "cell_type": "markdown",
   "id": "575f1822-bcb2-4f68-8e0d-d16aa3f5a2f4",
   "metadata": {},
   "source": [
    "#"
   ]
  },
  {
   "cell_type": "markdown",
   "id": "d4b7d44e-9bfd-4811-9eb5-261542667ac8",
   "metadata": {},
   "source": [
    "### 2. Validate Dataset"
   ]
  },
  {
   "cell_type": "code",
   "execution_count": 8,
   "id": "449fb4b1-a875-4a15-ab7d-b883392302f1",
   "metadata": {},
   "outputs": [],
   "source": [
    "import json\n",
    "from collections import defaultdict"
   ]
  },
  {
   "cell_type": "code",
   "execution_count": 12,
   "id": "d2585b78-f667-4763-b3c4-bfc665c19a1f",
   "metadata": {},
   "outputs": [
    {
     "name": "stdout",
     "output_type": "stream",
     "text": [
      "Num examples: 20\n",
      "First example:\n",
      "{'role': 'system', 'content': 'You are CodeCraft Marketplace agent to serve customer queries'}\n",
      "{'role': 'user', 'content': 'What is the return policy for CodeCraft Marketplace?'}\n",
      "{'role': 'assistant', 'content': 'Items can be returned within 30 days of delivery for a full refund or exchange. Products must be unused and in their original packaging.'}\n"
     ]
    }
   ],
   "source": [
    "data_path = \"static/code-craft-marketplace.jsonl\"\n",
    "\n",
    "# Load the dataset\n",
    "with open(data_path, 'r', encoding='utf-8') as f:\n",
    "    dataset = [json.loads(line) for line in f]\n",
    "\n",
    "# Initial dataset stats\n",
    "print(\"Num examples:\", len(dataset))\n",
    "print(\"First example:\")\n",
    "\n",
    "for message in dataset[0][\"messages\"]:\n",
    "    print(message)"
   ]
  },
  {
   "cell_type": "code",
   "execution_count": 13,
   "id": "1ac026e5-484a-4f68-9813-9e48cf2a69ac",
   "metadata": {},
   "outputs": [
    {
     "name": "stdout",
     "output_type": "stream",
     "text": [
      "No errors found\n"
     ]
    }
   ],
   "source": [
    "# Format error checks\n",
    "format_errors = defaultdict(int)\n",
    "\n",
    "for ex in dataset:\n",
    "    if not isinstance(ex, dict):\n",
    "        format_errors[\"data_type\"] += 1\n",
    "        continue\n",
    "        \n",
    "    messages = ex.get(\"messages\", None)\n",
    "    if not messages:\n",
    "        format_errors[\"missing_messages_list\"] += 1\n",
    "        continue\n",
    "        \n",
    "    for message in messages:\n",
    "        if \"role\" not in message or \"content\" not in message:\n",
    "            format_errors[\"message_missing_key\"] += 1\n",
    "        \n",
    "        if any(k not in (\"role\", \"content\", \"name\", \"function_call\", \"weight\") for k in message):\n",
    "            format_errors[\"message_unrecognized_key\"] += 1\n",
    "        \n",
    "        if message.get(\"role\", None) not in (\"system\", \"user\", \"assistant\", \"function\"):\n",
    "            format_errors[\"unrecognized_role\"] += 1\n",
    "            \n",
    "        content = message.get(\"content\", None)\n",
    "        function_call = message.get(\"function_call\", None)\n",
    "        \n",
    "        if (not content and not function_call) or not isinstance(content, str):\n",
    "            format_errors[\"missing_content\"] += 1\n",
    "    \n",
    "    if not any(message.get(\"role\", None) == \"assistant\" for message in messages):\n",
    "        format_errors[\"example_missing_assistant_message\"] += 1\n",
    "\n",
    "if format_errors:\n",
    "    print(\"Found errors:\")\n",
    "    for k, v in format_errors.items():\n",
    "        print(f\"{k}: {v}\")\n",
    "else:\n",
    "    print(\"No errors found\")"
   ]
  },
  {
   "cell_type": "markdown",
   "id": "6785c656-18cd-4387-b0ab-701c980f8774",
   "metadata": {},
   "source": [
    "#"
   ]
  },
  {
   "cell_type": "markdown",
   "id": "18163ff7-85d8-4238-9d14-2e9e9a2a9e07",
   "metadata": {},
   "source": [
    "### 3. Upload training data"
   ]
  },
  {
   "cell_type": "code",
   "execution_count": 14,
   "id": "dab898cf-a68d-4111-b183-175a6937ee67",
   "metadata": {},
   "outputs": [],
   "source": [
    "response = client.files.create(\n",
    "  file=open(\"static/code-craft-marketplace.jsonl\", \"rb\"),\n",
    "  purpose=\"fine-tune\"\n",
    ")"
   ]
  },
  {
   "cell_type": "code",
   "execution_count": 15,
   "id": "5f7af8bf-26af-49b4-b037-bdbc47dbc8c4",
   "metadata": {},
   "outputs": [],
   "source": [
    "file_id = response.id"
   ]
  },
  {
   "cell_type": "code",
   "execution_count": 16,
   "id": "88339def-44b0-4122-aaf0-49b35acb4fe2",
   "metadata": {},
   "outputs": [
    {
     "data": {
      "text/plain": [
       "'file-BaE7uhZ0Mhvjn4dzxLcBCHgc'"
      ]
     },
     "execution_count": 16,
     "metadata": {},
     "output_type": "execute_result"
    }
   ],
   "source": [
    "file_id"
   ]
  },
  {
   "cell_type": "markdown",
   "id": "78af8226-16df-4008-9f5d-28ce74b5426e",
   "metadata": {},
   "source": [
    "#### Now we'll use this file id as a ref instead of our local file since this file is uploaded to openai server"
   ]
  },
  {
   "cell_type": "markdown",
   "id": "a22c7d5f-b6c9-4f2f-8d81-1d0593c605af",
   "metadata": {},
   "source": [
    "#### The maximum file upload size is 1 GB"
   ]
  },
  {
   "cell_type": "markdown",
   "id": "1829110d-04d1-494a-9c81-097830ad714d",
   "metadata": {},
   "source": [
    "#"
   ]
  },
  {
   "cell_type": "markdown",
   "id": "b6d0ece9-a764-49ec-b480-e8a3bcabc96c",
   "metadata": {},
   "source": [
    "### 4. Create fine-tuned model by starting its job on the openAI server"
   ]
  },
  {
   "cell_type": "code",
   "execution_count": 17,
   "id": "ff215802-5d8e-401f-a842-0ac6d8ec5d9c",
   "metadata": {},
   "outputs": [],
   "source": [
    "response = client.fine_tuning.jobs.create(\n",
    "  training_file=file_id, \n",
    "  model=\"gpt-3.5-turbo\"\n",
    ")"
   ]
  },
  {
   "cell_type": "code",
   "execution_count": 18,
   "id": "e77aac1e-194e-4495-bc6d-7e1dfd6d3a5c",
   "metadata": {},
   "outputs": [],
   "source": [
    "job_id = \"ftjob-JokELaEJabtmwFFD1Y9mhkZu\" #response.id"
   ]
  },
  {
   "cell_type": "code",
   "execution_count": 19,
   "id": "50e788cc-e13f-43de-93d3-1f2849c1f13c",
   "metadata": {},
   "outputs": [
    {
     "data": {
      "text/plain": [
       "'ftjob-JokELaEJabtmwFFD1Y9mhkZu'"
      ]
     },
     "execution_count": 19,
     "metadata": {},
     "output_type": "execute_result"
    }
   ],
   "source": [
    "job_id"
   ]
  },
  {
   "cell_type": "markdown",
   "id": "d3b9dfb9-b4ed-4934-bdf5-e631dff111fc",
   "metadata": {},
   "source": [
    "##### After you've started a fine-tuning job, it may take some time to complete. Your job may be queued behind other jobs in our system, and training a model can take minutes or hours depending on the model and dataset size. After the model training is completed, the user who created the fine-tuning job will receive an email confirmation."
   ]
  },
  {
   "cell_type": "markdown",
   "id": "c84e1677-9d07-460b-b86c-95d2c4c48922",
   "metadata": {},
   "source": [
    "### 5. Check fine-tuned model status"
   ]
  },
  {
   "cell_type": "code",
   "execution_count": 20,
   "id": "296e72bd-0948-4c72-8e19-d53523b61f7e",
   "metadata": {},
   "outputs": [
    {
     "data": {
      "text/plain": [
       "FineTuningJob(id='ftjob-JokELaEJabtmwFFD1Y9mhkZu', created_at=1722023952, error=Error(code=None, message=None, param=None), fine_tuned_model='ft:gpt-3.5-turbo-0125:personal::9pLUXPi8', finished_at=1722024367, hyperparameters=Hyperparameters(n_epochs=5, batch_size=1, learning_rate_multiplier=2), model='gpt-3.5-turbo-0125', object='fine_tuning.job', organization_id='org-CMYq0wLF2zfrsXDQmnDi4syt', result_files=['file-RAJKNaqcjqYwsbyMVex6pJzh'], seed=1664177392, status='succeeded', trained_tokens=6065, training_file='file-MZCZWddgkInBK9pDNdJ1Qvdd', validation_file=None, estimated_finish=None, integrations=[], user_provided_suffix=None)"
      ]
     },
     "execution_count": 20,
     "metadata": {},
     "output_type": "execute_result"
    }
   ],
   "source": [
    "#client.fine_tuning.jobs.list(limit=10)\n",
    "\n",
    "# Retrieve the state of a fine-tune\n",
    "response = client.fine_tuning.jobs.retrieve(job_id)\n",
    "response"
   ]
  },
  {
   "cell_type": "markdown",
   "id": "b29b5cdb-83fa-49e9-aed9-62a7d9b24c74",
   "metadata": {},
   "source": [
    "#### Can check status here as well https://platform.openai.com/finetune/ftjob-FMOOJVgyILjimmSI26OTakRT?filter=all"
   ]
  },
  {
   "cell_type": "code",
   "execution_count": 21,
   "id": "706f2ed3-2a2a-477e-88ee-fe5ba03160a0",
   "metadata": {},
   "outputs": [
    {
     "data": {
      "text/plain": [
       "'succeeded'"
      ]
     },
     "execution_count": 21,
     "metadata": {},
     "output_type": "execute_result"
    }
   ],
   "source": [
    "response.status"
   ]
  },
  {
   "cell_type": "code",
   "execution_count": 25,
   "id": "a4735680-75ca-4baa-88b0-c1aafa8d2372",
   "metadata": {},
   "outputs": [
    {
     "ename": "AttributeError",
     "evalue": "'ChatCompletion' object has no attribute 'fine_tuned_model'",
     "output_type": "error",
     "traceback": [
      "\u001b[0;31m---------------------------------------------------------------------------\u001b[0m",
      "\u001b[0;31mAttributeError\u001b[0m                            Traceback (most recent call last)",
      "Cell \u001b[0;32mIn[25], line 1\u001b[0m\n\u001b[0;32m----> 1\u001b[0m model_name \u001b[38;5;241m=\u001b[39m \u001b[43mresponse\u001b[49m\u001b[38;5;241;43m.\u001b[39;49m\u001b[43mfine_tuned_model\u001b[49m\n\u001b[1;32m      2\u001b[0m model_name \u001b[38;5;241m=\u001b[39m \u001b[38;5;124m'\u001b[39m\u001b[38;5;124mft:gpt-3.5-turbo-0125:personal::9pLUXPi8\u001b[39m\u001b[38;5;124m'\u001b[39m\n",
      "File \u001b[0;32m~/dev/practice/openai/openai-youtube-series/.venv/lib/python3.10/site-packages/pydantic/main.py:828\u001b[0m, in \u001b[0;36mBaseModel.__getattr__\u001b[0;34m(self, item)\u001b[0m\n\u001b[1;32m    825\u001b[0m     \u001b[38;5;28;01mreturn\u001b[39;00m \u001b[38;5;28msuper\u001b[39m()\u001b[38;5;241m.\u001b[39m\u001b[38;5;21m__getattribute__\u001b[39m(item)  \u001b[38;5;66;03m# Raises AttributeError if appropriate\u001b[39;00m\n\u001b[1;32m    826\u001b[0m \u001b[38;5;28;01melse\u001b[39;00m:\n\u001b[1;32m    827\u001b[0m     \u001b[38;5;66;03m# this is the current error\u001b[39;00m\n\u001b[0;32m--> 828\u001b[0m     \u001b[38;5;28;01mraise\u001b[39;00m \u001b[38;5;167;01mAttributeError\u001b[39;00m(\u001b[38;5;124mf\u001b[39m\u001b[38;5;124m'\u001b[39m\u001b[38;5;132;01m{\u001b[39;00m\u001b[38;5;28mtype\u001b[39m(\u001b[38;5;28mself\u001b[39m)\u001b[38;5;241m.\u001b[39m\u001b[38;5;18m__name__\u001b[39m\u001b[38;5;132;01m!r}\u001b[39;00m\u001b[38;5;124m object has no attribute \u001b[39m\u001b[38;5;132;01m{\u001b[39;00mitem\u001b[38;5;132;01m!r}\u001b[39;00m\u001b[38;5;124m'\u001b[39m)\n",
      "\u001b[0;31mAttributeError\u001b[0m: 'ChatCompletion' object has no attribute 'fine_tuned_model'"
     ]
    }
   ],
   "source": [
    "model_name = response.fine_tuned_model\n",
    "model_name = 'ft:gpt-3.5-turbo-0125:personal::9pLUXPi8'"
   ]
  },
  {
   "cell_type": "markdown",
   "id": "d15931ef-0214-4c3f-89a3-a59d0a5d94d3",
   "metadata": {},
   "source": [
    "#"
   ]
  },
  {
   "cell_type": "markdown",
   "id": "008e19eb-b10b-4665-8124-1e97fa25e62d",
   "metadata": {},
   "source": [
    "### 6. Use a fine-tuned model"
   ]
  },
  {
   "cell_type": "code",
   "execution_count": null,
   "id": "f488c8d7-d435-4011-bb35-b3ed56746fec",
   "metadata": {},
   "outputs": [],
   "source": [
    "response = client.chat.completions.create(\n",
    "  # model=model_name,\n",
    "  model='gpt-3.5-turbo',  \n",
    "  messages=[  \n",
    "    {\"role\": \"user\", \"content\": \"Do you ship internationally?\"}\n",
    "  ]\n",
    ")\n",
    "print(response.choices[0].message.content)"
   ]
  },
  {
   "cell_type": "code",
   "execution_count": null,
   "id": "0c6274b3-a658-46f5-bdb4-49a08c59ea7a",
   "metadata": {},
   "outputs": [],
   "source": []
  },
  {
   "cell_type": "code",
   "execution_count": 26,
   "id": "fba7bba1-fefc-4244-bbc8-a5f5fd6699d8",
   "metadata": {},
   "outputs": [
    {
     "name": "stdout",
     "output_type": "stream",
     "text": [
      "CodeCraft Marketplace offers a 30-day return policy for unused and unopened items. Customers must contact customer support to initiate a return and receive a return authorization. A refund will be issued once the returned item is received and inspected.\n"
     ]
    }
   ],
   "source": [
    "response = client.chat.completions.create(\n",
    "  model=model_name, #'gpt-3.5-turbo',\n",
    "  messages=[\n",
    "    {\"role\": \"user\", \"content\": \"What is the return policy of CodeCraft Marketfplace?\"}\n",
    "  ]\n",
    ")\n",
    "print(response.choices[0].message.content)"
   ]
  },
  {
   "cell_type": "code",
   "execution_count": null,
   "id": "bf735178-646f-442a-b78b-03154b62e3ca",
   "metadata": {},
   "outputs": [],
   "source": []
  },
  {
   "cell_type": "code",
   "execution_count": null,
   "id": "60d32c48-e02f-43ec-81cf-0860c66ff3f5",
   "metadata": {},
   "outputs": [],
   "source": []
  }
 ],
 "metadata": {
  "kernelspec": {
   "display_name": "Python 3 (ipykernel)",
   "language": "python",
   "name": "python3"
  },
  "language_info": {
   "codemirror_mode": {
    "name": "ipython",
    "version": 3
   },
   "file_extension": ".py",
   "mimetype": "text/x-python",
   "name": "python",
   "nbconvert_exporter": "python",
   "pygments_lexer": "ipython3",
   "version": "3.10.12"
  }
 },
 "nbformat": 4,
 "nbformat_minor": 5
}
