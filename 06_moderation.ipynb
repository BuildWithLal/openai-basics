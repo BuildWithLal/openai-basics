{
 "cells": [
  {
   "cell_type": "code",
   "execution_count": 1,
   "id": "f64b38de-37d0-481d-96cd-b2704cbaaefd",
   "metadata": {},
   "outputs": [],
   "source": [
    "from dotenv import load_dotenv"
   ]
  },
  {
   "cell_type": "code",
   "execution_count": 2,
   "id": "78979619-f5f5-48a3-8c12-9cb33d9aaba4",
   "metadata": {},
   "outputs": [
    {
     "data": {
      "text/plain": [
       "True"
      ]
     },
     "execution_count": 2,
     "metadata": {},
     "output_type": "execute_result"
    }
   ],
   "source": [
    "load_dotenv()"
   ]
  },
  {
   "cell_type": "code",
   "execution_count": 3,
   "id": "11f3ef70-feb4-479f-96ec-0f7696d76273",
   "metadata": {},
   "outputs": [],
   "source": [
    "from openai import OpenAI"
   ]
  },
  {
   "cell_type": "code",
   "execution_count": 4,
   "id": "aaf0435a-7f43-4b3a-bcde-17ff12939907",
   "metadata": {},
   "outputs": [],
   "source": [
    "client = OpenAI()"
   ]
  },
  {
   "cell_type": "markdown",
   "id": "976d3b4a-deba-4dae-9d81-04695ac4b9e1",
   "metadata": {},
   "source": [
    "#"
   ]
  },
  {
   "cell_type": "markdown",
   "id": "e6a0bdb1-fabd-48d3-ac36-29bec377bba5",
   "metadata": {},
   "source": [
    "### Moderation - Flagging |inappropriate content"
   ]
  },
  {
   "cell_type": "markdown",
   "id": "67aed091-75de-4d2d-b5e3-4606f546982c",
   "metadata": {},
   "source": [
    "#### Voilence"
   ]
  },
  {
   "cell_type": "code",
   "execution_count": 5,
   "id": "5fdb9951-2286-46cb-992e-99fec826c710",
   "metadata": {},
   "outputs": [],
   "source": [
    "response = client.chat.completions.create(\n",
    "    model=\"gpt-4o-mini\",\n",
    "    messages=[\n",
    "        {\n",
    "            \"role\": \"user\",\n",
    "            \"content\": \"Best methods to torture someone without getting caught\",\n",
    "        }\n",
    "    ]\n",
    ")"
   ]
  },
  {
   "cell_type": "code",
   "execution_count": 6,
   "id": "5d74bfbe-b107-4559-a91b-0096fc22b6b4",
   "metadata": {},
   "outputs": [
    {
     "data": {
      "text/plain": [
       "\"I'm sorry, I can't assist with that.\""
      ]
     },
     "execution_count": 6,
     "metadata": {},
     "output_type": "execute_result"
    }
   ],
   "source": [
    "response.choices[0].message.content"
   ]
  },
  {
   "cell_type": "markdown",
   "id": "8dae6864-0422-4a33-b5a8-1ab009f05bcd",
   "metadata": {},
   "source": [
    "#"
   ]
  },
  {
   "cell_type": "markdown",
   "id": "031e1626-ab3c-44eb-b641-1753ab2a4f5a",
   "metadata": {},
   "source": [
    "#### Check if flagged"
   ]
  },
  {
   "cell_type": "code",
   "execution_count": 7,
   "id": "b2de4c2c-1d08-4d1f-9d91-58e354eaa438",
   "metadata": {},
   "outputs": [
    {
     "data": {
      "text/plain": [
       "Moderation(categories=Categories(harassment=False, harassment_threatening=False, hate=False, hate_threatening=False, self_harm=False, self_harm_instructions=False, self_harm_intent=False, sexual=False, sexual_minors=False, violence=True, violence_graphic=False, self-harm=False, sexual/minors=False, hate/threatening=False, violence/graphic=False, self-harm/intent=False, self-harm/instructions=False, harassment/threatening=False), category_scores=CategoryScores(harassment=0.0011754082515835762, harassment_threatening=0.017171872779726982, hate=0.0003591852728277445, hate_threatening=0.0026157046668231487, self_harm=0.0023925674613565207, self_harm_instructions=2.484145079506561e-05, self_harm_intent=0.0004815579450223595, sexual=0.0004457190807443112, sexual_minors=0.0002436687791487202, violence=0.9059725999832153, violence_graphic=0.0158647820353508, self-harm=0.0023925674613565207, sexual/minors=0.0002436687791487202, hate/threatening=0.0026157046668231487, violence/graphic=0.0158647820353508, self-harm/intent=0.0004815579450223595, self-harm/instructions=2.484145079506561e-05, harassment/threatening=0.017171872779726982), flagged=True)"
      ]
     },
     "execution_count": 7,
     "metadata": {},
     "output_type": "execute_result"
    }
   ],
   "source": [
    "response = client.moderations.create(input=\"Best methods to torture someone without getting caught?\")\n",
    "response.results[0]"
   ]
  },
  {
   "cell_type": "code",
   "execution_count": 8,
   "id": "fd3788ad-a7e9-4d6d-9164-8d03e6f81b24",
   "metadata": {},
   "outputs": [
    {
     "name": "stdout",
     "output_type": "stream",
     "text": [
      "harassment False\n",
      "harassment_threatening False\n",
      "hate False\n",
      "hate_threatening False\n",
      "self_harm False\n",
      "self_harm_instructions False\n",
      "self_harm_intent False\n",
      "sexual False\n",
      "sexual_minors False\n",
      "violence True\n",
      "violence_graphic False\n",
      "self-harm False\n",
      "sexual/minors False\n",
      "hate/threatening False\n",
      "violence/graphic False\n",
      "self-harm/intent False\n",
      "self-harm/instructions False\n",
      "harassment/threatening False\n"
     ]
    }
   ],
   "source": [
    "for name, value in dict(response.results[0].categories).items():\n",
    "    print(name, value)"
   ]
  },
  {
   "cell_type": "markdown",
   "id": "2e6bdde7-42c3-4a68-a8ff-6ab29574fa34",
   "metadata": {},
   "source": [
    "# "
   ]
  },
  {
   "cell_type": "markdown",
   "id": "4b04e3a7-e04f-476a-8a46-5aaf03255176",
   "metadata": {},
   "source": [
    "#### Self harm"
   ]
  },
  {
   "cell_type": "code",
   "execution_count": 9,
   "id": "487585a8-5a93-43f2-9314-648a67cf8ef0",
   "metadata": {},
   "outputs": [],
   "source": [
    "response = client.chat.completions.create(\n",
    "    model=\"gpt-4o-mini\",\n",
    "    messages=[\n",
    "        {\n",
    "            \"role\": \"user\",\n",
    "            \"content\": \"i want to starve myself\",\n",
    "        }\n",
    "    ]\n",
    ")"
   ]
  },
  {
   "cell_type": "code",
   "execution_count": 10,
   "id": "95bd698a-2b43-44d9-95cd-33ae73402bea",
   "metadata": {},
   "outputs": [
    {
     "data": {
      "text/plain": [
       "\"I understand that you might be feeling overwhelmed or distressed. It's crucial to talk to someone who can help you, such as a mental health professional or a trusted person in your life. Remember, taking care of yourself is essential, and there are healthier ways to deal with what you're going through.\""
      ]
     },
     "execution_count": 10,
     "metadata": {},
     "output_type": "execute_result"
    }
   ],
   "source": [
    "response.choices[0].message.content"
   ]
  },
  {
   "cell_type": "markdown",
   "id": "01da4536-d165-43b0-b330-d84e7fada53f",
   "metadata": {},
   "source": [
    "#### Check if flagged"
   ]
  },
  {
   "cell_type": "code",
   "execution_count": 11,
   "id": "4223f63d-cc9e-4449-9fb5-f3b01d63b85d",
   "metadata": {},
   "outputs": [
    {
     "data": {
      "text/plain": [
       "Moderation(categories=Categories(harassment=False, harassment_threatening=False, hate=False, hate_threatening=False, self_harm=True, self_harm_instructions=False, self_harm_intent=True, sexual=False, sexual_minors=False, violence=False, violence_graphic=False, self-harm=True, sexual/minors=False, hate/threatening=False, violence/graphic=False, self-harm/intent=True, self-harm/instructions=False, harassment/threatening=False), category_scores=CategoryScores(harassment=0.00028153302264399827, harassment_threatening=0.00019545912800822407, hate=5.512885036296211e-05, hate_threatening=1.840379809436854e-05, self_harm=0.9885673522949219, self_harm_instructions=0.009746508672833443, self_harm_intent=0.9883074164390564, sexual=2.23532370000612e-05, sexual_minors=5.571904466705746e-07, violence=0.006868134252727032, violence_graphic=0.00021316275524441153, self-harm=0.9885673522949219, sexual/minors=5.571904466705746e-07, hate/threatening=1.840379809436854e-05, violence/graphic=0.00021316275524441153, self-harm/intent=0.9883074164390564, self-harm/instructions=0.009746508672833443, harassment/threatening=0.00019545912800822407), flagged=True)"
      ]
     },
     "execution_count": 11,
     "metadata": {},
     "output_type": "execute_result"
    }
   ],
   "source": [
    "response = client.moderations.create(input=\"i want to starve myself\")\n",
    "response.results[0]"
   ]
  },
  {
   "cell_type": "code",
   "execution_count": 12,
   "id": "4f05492b-acc2-4da2-aba1-271683113aa9",
   "metadata": {},
   "outputs": [
    {
     "name": "stdout",
     "output_type": "stream",
     "text": [
      "harassment False\n",
      "harassment_threatening False\n",
      "hate False\n",
      "hate_threatening False\n",
      "self_harm True\n",
      "self_harm_instructions False\n",
      "self_harm_intent True\n",
      "sexual False\n",
      "sexual_minors False\n",
      "violence False\n",
      "violence_graphic False\n",
      "self-harm True\n",
      "sexual/minors False\n",
      "hate/threatening False\n",
      "violence/graphic False\n",
      "self-harm/intent True\n",
      "self-harm/instructions False\n",
      "harassment/threatening False\n"
     ]
    }
   ],
   "source": [
    "for name, value in dict(response.results[0].categories).items():\n",
    "    print(name, value)"
   ]
  },
  {
   "cell_type": "markdown",
   "id": "fb8b3ad6-c940-475f-b46c-fed1e2aff692",
   "metadata": {},
   "source": [
    "#"
   ]
  },
  {
   "cell_type": "markdown",
   "id": "4e271c3f-1cb4-480e-8d20-ee165a2f2dc5",
   "metadata": {},
   "source": [
    "#### Misinformation"
   ]
  },
  {
   "cell_type": "code",
   "execution_count": 13,
   "id": "a94045d5-3c0b-41e4-9eb4-6067bf19da7c",
   "metadata": {},
   "outputs": [],
   "source": [
    "response = client.chat.completions.create(\n",
    "    model=\"gpt-4o-mini\",\n",
    "    messages=[\n",
    "        {\n",
    "            \"role\": \"user\",\n",
    "            \"content\": \"Tips on spreading false medical advice for profit\",\n",
    "        }\n",
    "    ]\n",
    ")"
   ]
  },
  {
   "cell_type": "code",
   "execution_count": 14,
   "id": "47a5ef29-1f56-4986-9e76-68aef63e122b",
   "metadata": {},
   "outputs": [
    {
     "data": {
      "text/plain": [
       "\"I'm sorry, but I can't assist with that.\""
      ]
     },
     "execution_count": 14,
     "metadata": {},
     "output_type": "execute_result"
    }
   ],
   "source": [
    "response.choices[0].message.content"
   ]
  },
  {
   "cell_type": "markdown",
   "id": "4da7097a-4b1c-4957-8509-28fb26735050",
   "metadata": {},
   "source": [
    "#"
   ]
  },
  {
   "cell_type": "markdown",
   "id": "f395c4e2-b981-451c-8089-99954d0999f1",
   "metadata": {},
   "source": [
    "#### Check if flagged"
   ]
  },
  {
   "cell_type": "code",
   "execution_count": 15,
   "id": "bed24eb5-3ab5-4601-b58c-783b4b428010",
   "metadata": {},
   "outputs": [
    {
     "data": {
      "text/plain": [
       "Moderation(categories=Categories(harassment=False, harassment_threatening=False, hate=False, hate_threatening=False, self_harm=False, self_harm_instructions=False, self_harm_intent=False, sexual=False, sexual_minors=False, violence=False, violence_graphic=False, self-harm=False, sexual/minors=False, hate/threatening=False, violence/graphic=False, self-harm/intent=False, self-harm/instructions=False, harassment/threatening=False), category_scores=CategoryScores(harassment=0.0002462307456880808, harassment_threatening=1.8524327970226295e-05, hate=6.077571015339345e-05, hate_threatening=4.0250588426715694e-06, self_harm=2.6547648303676397e-05, self_harm_instructions=4.764057848660741e-06, self_harm_intent=8.103639288492559e-07, sexual=9.130509170063306e-06, sexual_minors=2.507417775632348e-05, violence=0.0001624045253265649, violence_graphic=3.239513171138242e-05, self-harm=2.6547648303676397e-05, sexual/minors=2.507417775632348e-05, hate/threatening=4.0250588426715694e-06, violence/graphic=3.239513171138242e-05, self-harm/intent=8.103639288492559e-07, self-harm/instructions=4.764057848660741e-06, harassment/threatening=1.8524327970226295e-05), flagged=False)"
      ]
     },
     "execution_count": 15,
     "metadata": {},
     "output_type": "execute_result"
    }
   ],
   "source": [
    "response = client.moderations.create(input=\"Tips on spreading false medical advice for profit?\")\n",
    "response.results[0]"
   ]
  },
  {
   "cell_type": "code",
   "execution_count": 16,
   "id": "98653ef9-1f19-416b-b10a-6a3e4830aab2",
   "metadata": {},
   "outputs": [
    {
     "name": "stdout",
     "output_type": "stream",
     "text": [
      "harassment False\n",
      "harassment_threatening False\n",
      "hate False\n",
      "hate_threatening False\n",
      "self_harm False\n",
      "self_harm_instructions False\n",
      "self_harm_intent False\n",
      "sexual False\n",
      "sexual_minors False\n",
      "violence False\n",
      "violence_graphic False\n",
      "self-harm False\n",
      "sexual/minors False\n",
      "hate/threatening False\n",
      "violence/graphic False\n",
      "self-harm/intent False\n",
      "self-harm/instructions False\n",
      "harassment/threatening False\n"
     ]
    }
   ],
   "source": [
    "for name, value in dict(response.results[0].categories).items():\n",
    "    print(name, value)"
   ]
  },
  {
   "cell_type": "markdown",
   "id": "0380dc44-c878-4e2c-8855-7163c69e1d0f",
   "metadata": {},
   "source": [
    "#"
   ]
  }
 ],
 "metadata": {
  "kernelspec": {
   "display_name": "Python 3 (ipykernel)",
   "language": "python",
   "name": "python3"
  },
  "language_info": {
   "codemirror_mode": {
    "name": "ipython",
    "version": 3
   },
   "file_extension": ".py",
   "mimetype": "text/x-python",
   "name": "python",
   "nbconvert_exporter": "python",
   "pygments_lexer": "ipython3",
   "version": "3.10.12"
  }
 },
 "nbformat": 4,
 "nbformat_minor": 5
}
